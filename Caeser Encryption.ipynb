{
 "cells": [
  {
   "cell_type": "markdown",
   "metadata": {},
   "source": [
    "## Caeser Encryption "
   ]
  },
  {
   "cell_type": "code",
   "execution_count": 1,
   "metadata": {},
   "outputs": [
    {
     "name": "stdout",
     "output_type": "stream",
     "text": [
      "\n",
      "['c', 'D', 'e']\n",
      "\n"
     ]
    }
   ],
   "source": [
    "def caesar_encrypt(realText, step):\n",
    "    outText=[]\n",
    "    cryptText=[]\n",
    "    uppercase=['A','B','C','D','E','F','G','H','I','J','K','L','M','N','O','P','Q','R','S','T','U','V','W','X','Y','Z']\n",
    "    lowercase=['a','b','c','d','e','f','g','h','i','j','k','l','m','n','o','p','q','r','s','t','u','v','w','x','y','z']\n",
    "    for eachLetter in realText:\n",
    "        if eachLetter in uppercase:\n",
    "            index=uppercase.index(eachLetter)\n",
    "            crypting=(index+step)%26\n",
    "            cryptText.append(crypting)\n",
    "            newLetter=uppercase[crypting]\n",
    "            outText.append(newLetter)\n",
    "        elif eachLetter in lowercase:\n",
    "            index=lowercase.index(eachLetter)\n",
    "            crypting=(index+step)%26\n",
    "            cryptText.append(crypting)\n",
    "            newLetter=lowercase[crypting]\n",
    "            outText.append(newLetter)\n",
    "    return outText\n",
    "\n",
    "code = caesar_encrypt('aBc',2)\n",
    "print()\n",
    "print(code)\n",
    "print()"
   ]
  }
 ],
 "metadata": {
  "kernelspec": {
   "display_name": "Python 3",
   "language": "python",
   "name": "python3"
  },
  "language_info": {
   "codemirror_mode": {
    "name": "ipython",
    "version": 3
   },
   "file_extension": ".py",
   "mimetype": "text/x-python",
   "name": "python",
   "nbconvert_exporter": "python",
   "pygments_lexer": "ipython3",
   "version": "3.7.0"
  }
 },
 "nbformat": 4,
 "nbformat_minor": 2
}
