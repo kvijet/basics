{
 "cells": [
  {
   "cell_type": "markdown",
   "metadata": {},
   "source": [
    "This is salary calculator"
   ]
  },
  {
   "cell_type": "code",
   "execution_count": 3,
   "metadata": {},
   "outputs": [
    {
     "name": "stdout",
     "output_type": "stream",
     "text": [
      "What's tht name of employee?\n",
      "Vijet\n",
      "How many hours did the employee work?\n",
      "forty\n",
      "What is the wage for one hour?\n",
      "10\n",
      "what is the standard work hours per week?\n",
      "40\n",
      "\n",
      "\n",
      "Invalid inputs \n",
      "Try again with valid inputs\n"
     ]
    }
   ],
   "source": [
    "name=input(\"What's tht name of employee?\\n\")\n",
    "hours= input('How many hours did the employee work?\\n')\n",
    "rate=input('What is the wage for one hour?\\n')\n",
    "std_wrk_hrs=input(\"what is the standard work hours per week?\\n\")\n",
    "try:\n",
    "    hours=float(hours)\n",
    "    rate=float(rate)\n",
    "    std_wrk_hrs=float(std_wrk_hrs)\n",
    "    y=(std_wrk_hrs*rate)+(hours-std_wrk_hrs)*1.5*rate\n",
    "    x=\", your wage is \"\n",
    "    z=hours*rate\n",
    "    if hours<std_wrk_hrs:\n",
    "        print(name)\n",
    "        print(\" your wage is \")\n",
    "        print('\\n\\n',z)\n",
    "    else:\n",
    "        print('\\n\\n',name,\"'s\", x, y )\n",
    "\n",
    "except:\n",
    "        print(\"\\n\\nInvalid inputs \\nTry again with valid inputs\")"
   ]
  },
  {
   "cell_type": "markdown",
   "metadata": {},
   "source": [
    "This is a grade calculator"
   ]
  },
  {
   "cell_type": "code",
   "execution_count": 4,
   "metadata": {},
   "outputs": [
    {
     "name": "stdout",
     "output_type": "stream",
     "text": [
      "What's the score?\n",
      ".9\n",
      "Your grade is\t A\n",
      "You're JADU\n",
      "You don't belong to this planet.\n"
     ]
    }
   ],
   "source": [
    "score= input(\"What's the score?\\n\")\n",
    "try:\n",
    "    z=\"Your grade is\\t\"\n",
    "    x=float(score)\n",
    "    if x>0.0 and x<=1.0:\n",
    "        if x>0 and x<0.6:\n",
    "            print(z , \"F\\nYou Dumbo!!\")\n",
    "        elif x>=0.6 and x<0.7:\n",
    "            print(z, \"D\\nYou are that average kid!!\")\n",
    "        elif x>=0.7 and x<0.8:\n",
    "            print(z, \"C\\nGood there is room for improvement.\") \n",
    "        elif x>=0.8 and x<0.9:\n",
    "            print(z, \"B\\nIt's better score\\nStill, there is room for improvement.\")\n",
    "        else:\n",
    "            print(z, \"A\\nYou're JADU\\nYou don't belong to this planet.\")\n",
    "    else:\n",
    "        print(\"Ooops!! You've entered a wrong input.\\nA valid score lies between 0.0 and 1.0\\nTry again with correct score.\")\n",
    "except:\n",
    "    print(\"You idiot!!\\nA valid score is a number and it lies between 0.0 and 1.0\\nTry again with correct score.\")"
   ]
  }
 ],
 "metadata": {
  "kernelspec": {
   "display_name": "Python 3",
   "language": "python",
   "name": "python3"
  },
  "language_info": {
   "codemirror_mode": {
    "name": "ipython",
    "version": 3
   },
   "file_extension": ".py",
   "mimetype": "text/x-python",
   "name": "python",
   "nbconvert_exporter": "python",
   "pygments_lexer": "ipython3",
   "version": "3.7.0"
  }
 },
 "nbformat": 4,
 "nbformat_minor": 2
}
